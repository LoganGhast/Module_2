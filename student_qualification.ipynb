{
 "cells": [
  {
   "cell_type": "code",
   "execution_count": null,
   "id": "078167d5-46cf-4674-b8ba-9a0380b8450f",
   "metadata": {},
   "outputs": [
    {
     "name": "stdin",
     "output_type": "stream",
     "text": [
      "Enter the student's last name (or 'ZZZ' to quit):  Ghast\n",
      "Enter the student's first name:  Logan\n",
      "Enter the student's GPA:  3.97\n"
     ]
    },
    {
     "name": "stdout",
     "output_type": "stream",
     "text": [
      "Logan Ghast has made the Dean's List!\n"
     ]
    },
    {
     "name": "stdin",
     "output_type": "stream",
     "text": [
      "Enter the student's last name (or 'ZZZ' to quit):  zzz\n",
      "Enter the student's first name:  zzz\n",
      "Enter the student's GPA:  zzz\n"
     ]
    },
    {
     "name": "stdout",
     "output_type": "stream",
     "text": [
      "Invalid GPA. Please enter a valid GPA.\n"
     ]
    }
   ],
   "source": [
    "# Author: Logan Ghast\n",
    "# File name: student_qualification.py\n",
    "# Description: This app accepts student names and GPAs and checks if the student qualifies for the Dean's List or Honor Roll\n",
    "\n",
    "# Start of app\n",
    "while True:\n",
    "    # Ask for and accept a student's last name\n",
    "    last_name = input(\"Enter the student's last name (or 'ZZZ' to quit): \")\n",
    "    \n",
    "    # Quit if the last name entered is 'ZZZ'\n",
    "    if last_name == 'ZZZ':\n",
    "        print(\"Exiting the app. Goodbye!\")\n",
    "        break\n",
    "    \n",
    "    # Ask for and accept a student's first name\n",
    "    first_name = input(\"Enter the student's first name: \")\n",
    "    \n",
    "    # Ask for and accept the student's GPA as a float\n",
    "    try:\n",
    "        gpa = float(input(\"Enter the student's GPA: \"))\n",
    "    except ValueError:\n",
    "        print(\"Invalid GPA. Please enter a valid GPA.\")\n",
    "        continue\n",
    "    \n",
    "    # Check if the student's GPA qualifies for the Dean's List or Honor Roll\n",
    "    if gpa >= 3.5:\n",
    "        print(f\"{first_name} {last_name} has made the Dean's List!\")\n",
    "    elif gpa >= 3.25:\n",
    "        print(f\"{first_name} {last_name} has made the Honor Roll!\")\n",
    "    else:\n",
    "        print(f\"{first_name} {last_name} does not qualify for the Dean's List or Honor Roll.\")\n"
   ]
  },
  {
   "cell_type": "code",
   "execution_count": null,
   "id": "cf35ff8e-8141-43a9-8d14-724f061aded9",
   "metadata": {},
   "outputs": [],
   "source": []
  }
 ],
 "metadata": {
  "kernelspec": {
   "display_name": "Python 3 (ipykernel)",
   "language": "python",
   "name": "python3"
  },
  "language_info": {
   "codemirror_mode": {
    "name": "ipython",
    "version": 3
   },
   "file_extension": ".py",
   "mimetype": "text/x-python",
   "name": "python",
   "nbconvert_exporter": "python",
   "pygments_lexer": "ipython3",
   "version": "3.12.4"
  }
 },
 "nbformat": 4,
 "nbformat_minor": 5
}
